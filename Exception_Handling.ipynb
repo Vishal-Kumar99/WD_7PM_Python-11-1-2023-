{
 "cells": [
  {
   "cell_type": "code",
   "execution_count": 4,
   "metadata": {},
   "outputs": [
    {
     "name": "stdout",
     "output_type": "stream",
     "text": [
      "hello world\n"
     ]
    }
   ],
   "source": [
    "print(\"hello world\")   # compilation(conversion of high level language to machine language 0,1)\n"
   ]
  },
  {
   "cell_type": "code",
   "execution_count": 11,
   "metadata": {},
   "outputs": [
    {
     "name": "stdout",
     "output_type": "stream",
     "text": [
      "9807\n",
      "okey bye\n"
     ]
    }
   ],
   "source": [
    "try:\n",
    "    a=int(input(\"enter your 4 digit atm pin :\"))\n",
    "    print(a)\n",
    "except Exception:\n",
    "    print(\"out of service\")\n",
    "\n",
    "print(\"okey bye\")"
   ]
  },
  {
   "cell_type": "code",
   "execution_count": 12,
   "metadata": {},
   "outputs": [
    {
     "name": "stdout",
     "output_type": "stream",
     "text": [
      "out of service\n",
      "okey bye\n"
     ]
    }
   ],
   "source": [
    "try:\n",
    "    a=int(input(\"enter your 4 digit atm pin :\"))\n",
    "    print(a)\n",
    "except Exception:\n",
    "    print(\"out of service\")\n",
    "\n",
    "print(\"okey bye\")"
   ]
  },
  {
   "cell_type": "code",
   "execution_count": 14,
   "metadata": {},
   "outputs": [
    {
     "name": "stdout",
     "output_type": "stream",
     "text": [
      "A alphanumeric never converted into int.\n",
      "okey bye\n"
     ]
    }
   ],
   "source": [
    "try:\n",
    "    a=int(input(\"enter your 4 digit atm pin :\"))\n",
    "    print(a)\n",
    "except ValueError:\n",
    "    print(\"A alphanumeric never converted into int.\")\n",
    "except Exception:\n",
    "    print(\"out of service\")\n",
    "\n",
    "print(\"okey bye\")"
   ]
  },
  {
   "cell_type": "code",
   "execution_count": 13,
   "metadata": {},
   "outputs": [
    {
     "ename": "ValueError",
     "evalue": "invalid literal for int() with base 10: 'krishna'",
     "output_type": "error",
     "traceback": [
      "\u001b[1;31m---------------------------------------------------------------------------\u001b[0m",
      "\u001b[1;31mValueError\u001b[0m                                Traceback (most recent call last)",
      "Cell \u001b[1;32mIn[13], line 1\u001b[0m\n\u001b[1;32m----> 1\u001b[0m a\u001b[39m=\u001b[39m\u001b[39mint\u001b[39;49m(\u001b[39minput\u001b[39;49m(\u001b[39m\"\u001b[39;49m\u001b[39menter your 4 digit atm pin :\u001b[39;49m\u001b[39m\"\u001b[39;49m))\n\u001b[0;32m      2\u001b[0m \u001b[39mprint\u001b[39m(a)\n",
      "\u001b[1;31mValueError\u001b[0m: invalid literal for int() with base 10: 'krishna'"
     ]
    }
   ],
   "source": [
    "a=int(input(\"enter your 4 digit atm pin :\"))\n",
    "print(a)"
   ]
  },
  {
   "cell_type": "code",
   "execution_count": 16,
   "metadata": {},
   "outputs": [
    {
     "ename": "SyntaxError",
     "evalue": "'(' was never closed (1794652969.py, line 2)",
     "output_type": "error",
     "traceback": [
      "\u001b[1;36m  Cell \u001b[1;32mIn[16], line 2\u001b[1;36m\u001b[0m\n\u001b[1;33m    a=int(input(\"enter your 4 digit atm pin :\")\u001b[0m\n\u001b[1;37m         ^\u001b[0m\n\u001b[1;31mSyntaxError\u001b[0m\u001b[1;31m:\u001b[0m '(' was never closed\n"
     ]
    }
   ],
   "source": [
    "try:\n",
    "    a=int(input(\"enter your 4 digit atm pin :\"))\n",
    "    print(a)\n",
    "except ValueError:\n",
    "    print(\"A alphanumeric never converted into int.\")\n",
    "except Exception:\n",
    "    print(\"out of service\")\n",
    "\n",
    "print(\"okey bye\")"
   ]
  },
  {
   "cell_type": "code",
   "execution_count": 15,
   "metadata": {},
   "outputs": [
    {
     "ename": "ZeroDivisionError",
     "evalue": "division by zero",
     "output_type": "error",
     "traceback": [
      "\u001b[1;31m---------------------------------------------------------------------------\u001b[0m",
      "\u001b[1;31mZeroDivisionError\u001b[0m                         Traceback (most recent call last)",
      "Cell \u001b[1;32mIn[15], line 3\u001b[0m\n\u001b[0;32m      1\u001b[0m a\u001b[39m=\u001b[39m\u001b[39m10\u001b[39m\n\u001b[0;32m      2\u001b[0m b\u001b[39m=\u001b[39m\u001b[39m0\u001b[39m\n\u001b[1;32m----> 3\u001b[0m result\u001b[39m=\u001b[39ma\u001b[39m/\u001b[39;49mb\n",
      "\u001b[1;31mZeroDivisionError\u001b[0m: division by zero"
     ]
    }
   ],
   "source": [
    "a=10\n",
    "b=0\n",
    "result=a/b\n"
   ]
  },
  {
   "cell_type": "code",
   "execution_count": 21,
   "metadata": {},
   "outputs": [
    {
     "name": "stdout",
     "output_type": "stream",
     "text": [
      "Alphanumeric value is not convertible into int\n",
      "code complete\n"
     ]
    }
   ],
   "source": [
    "try:\n",
    "    a=10\n",
    "    b=eval(input(\"Enter your number :\"))\n",
    "    result=a/b\n",
    "except ZeroDivisionError:\n",
    "    print(\"A number never divisible by 0\")\n",
    "\n",
    "except NameError:\n",
    "    print(\"Alphanumeric value is not convertible into int\")\n",
    "finally:\n",
    "    print(\"code complete\")"
   ]
  },
  {
   "cell_type": "code",
   "execution_count": 27,
   "metadata": {},
   "outputs": [
    {
     "name": "stdout",
     "output_type": "stream",
     "text": [
      "A number never divisible by 0\n",
      "code complete\n"
     ]
    }
   ],
   "source": [
    "try:\n",
    "    a=int(input(\"Kindly enter first number :\"))\n",
    "    b=eval(input(\"Enter your number :\"))\n",
    "    result=a/b\n",
    "    print(result)\n",
    "except ZeroDivisionError:\n",
    "    print(\"A number never divisible by 0\")\n",
    "\n",
    "except NameError:\n",
    "    print(\"Alphanumeric value is not convertible into int\")\n",
    "\n",
    "except Exception:\n",
    "    print(\"Out of service\")\n",
    "finally:\n",
    "    \n",
    "    print(\"code complete\")"
   ]
  },
  {
   "cell_type": "code",
   "execution_count": 28,
   "metadata": {},
   "outputs": [
    {
     "name": "stdout",
     "output_type": "stream",
     "text": [
      "A number never divisible by 0\n",
      "code complete\n"
     ]
    }
   ],
   "source": [
    "try:\n",
    "    a=int(input(\"Kindly enter first number :\"))\n",
    "    b=eval(input(\"Enter your number :\"))\n",
    "    result=a/b\n",
    "    print(result)\n",
    "except ZeroDivisionError:\n",
    "    print(\"A number never divisible by 0\")\n",
    "\n",
    "except NameError:\n",
    "    print(\"Alphanumeric value is not convertible into int\")\n",
    "\n",
    "except Exception:\n",
    "    print(\"Out of service\")\n",
    "finally:\n",
    "    \n",
    "    print(\"code complete\")"
   ]
  },
  {
   "cell_type": "code",
   "execution_count": 29,
   "metadata": {},
   "outputs": [
    {
     "name": "stdout",
     "output_type": "stream",
     "text": [
      "0.0\n",
      "code complete\n"
     ]
    }
   ],
   "source": [
    "try:\n",
    "    a=int(input(\"Kindly enter first number :\"))\n",
    "    b=eval(input(\"Enter your number :\"))\n",
    "    result=a/b\n",
    "    print(result)\n",
    "except ZeroDivisionError:\n",
    "    print(\"A number never divisible by 0\")\n",
    "\n",
    "except NameError:\n",
    "    print(\"Alphanumeric value is not convertible into int\")\n",
    "\n",
    "except Exception:\n",
    "    print(\"Out of service\")\n",
    "finally:\n",
    "    \n",
    "    print(\"code complete\")"
   ]
  },
  {
   "cell_type": "code",
   "execution_count": 31,
   "metadata": {},
   "outputs": [
    {
     "name": "stdout",
     "output_type": "stream",
     "text": [
      "Out of service\n",
      "code complete\n"
     ]
    }
   ],
   "source": [
    "try:\n",
    "    a=int(input(\"Kindly enter first number :\"))\n",
    "    b=eval(input(\"Enter your number :\"))\n",
    "    result=a/b\n",
    "    print(result)\n",
    "except ZeroDivisionError:\n",
    "    print(\"A number never divisible by 0\")\n",
    "\n",
    "except NameError:\n",
    "    print(\"Alphanumeric value is not convertible into int\")\n",
    "\n",
    "except Exception:\n",
    "    print(\"Out of service\")\n",
    "finally:\n",
    "    \n",
    "    print(\"code complete\")"
   ]
  },
  {
   "cell_type": "code",
   "execution_count": 34,
   "metadata": {},
   "outputs": [
    {
     "name": "stdout",
     "output_type": "stream",
     "text": [
      "A number never divisible by 0 division by zero\n",
      "code complete\n"
     ]
    }
   ],
   "source": [
    "try:\n",
    "    a=int(input(\"Kindly enter first number :\"))\n",
    "    b=eval(input(\"Enter your number :\"))\n",
    "    result=a/b\n",
    "    print(result)\n",
    "    if a/b:\n",
    "        raise Exception(\"this is my error\")\n",
    "\n",
    "except ZeroDivisionError as e:\n",
    "    print(\"A number never divisible by 0\",e)\n",
    "\n",
    "except NameError:\n",
    "    print(\"Alphanumeric value is not convertible into int\")\n",
    "\n",
    "except Exception as e:\n",
    "    print(\"Out of service\",e)\n",
    "\n",
    "finally:\n",
    "    print(\"code complete\")"
   ]
  },
  {
   "cell_type": "code",
   "execution_count": 35,
   "metadata": {},
   "outputs": [
    {
     "name": "stdout",
     "output_type": "stream",
     "text": [
      "0.5\n",
      "code complete\n"
     ]
    }
   ],
   "source": [
    "try:\n",
    "    a=int(input(\"Kindly enter first number :\"))\n",
    "    b=eval(input(\"Enter your number :\"))\n",
    "    result=a/b\n",
    "    print(result)\n",
    "    \n",
    "except ZeroDivisionError as e:\n",
    "    print(\"A number never divisible by 0\",e)\n",
    "\n",
    "except NameError:\n",
    "    print(\"Alphanumeric value is not convertible into int\")\n",
    "\n",
    "except Exception as e:\n",
    "    print(\"Out of service\",e)\n",
    "\n",
    "finally:\n",
    "    print(\"code complete\")"
   ]
  },
  {
   "cell_type": "code",
   "execution_count": 36,
   "metadata": {},
   "outputs": [
    {
     "name": "stdout",
     "output_type": "stream",
     "text": [
      "A number never divisible by 0 division by zero\n",
      "code complete\n"
     ]
    }
   ],
   "source": [
    "try:\n",
    "    a=int(input(\"Kindly enter first number :\"))\n",
    "    b=eval(input(\"Enter your number :\"))\n",
    "    result=a/b\n",
    "    print(result)\n",
    "    \n",
    "except ZeroDivisionError as e:\n",
    "    print(\"A number never divisible by 0\",e)\n",
    "\n",
    "except NameError:\n",
    "    print(\"Alphanumeric value is not convertible into int\")\n",
    "\n",
    "except Exception as e:\n",
    "    print(\"Out of service\",e)\n",
    "\n",
    "finally:\n",
    "    print(\"code complete\")"
   ]
  },
  {
   "cell_type": "code",
   "execution_count": 37,
   "metadata": {},
   "outputs": [
    {
     "name": "stdout",
     "output_type": "stream",
     "text": [
      "A number never divisible by 0 division by zero\n"
     ]
    }
   ],
   "source": [
    "try:\n",
    "    a=int(input(\"Kindly enter first number :\"))\n",
    "    b=eval(input(\"Enter your number :\"))\n",
    "    result=a/b\n",
    "    print(result)\n",
    "    \n",
    "except ZeroDivisionError as e:\n",
    "    print(\"A number never divisible by 0\",e)\n",
    "\n",
    "except NameError:\n",
    "    print(\"Alphanumeric value is not convertible into int\")\n",
    "\n",
    "except Exception as e:\n",
    "    print(\"Out of service\",e)\n",
    "\n",
    "else:\n",
    "    print(\"Code completed succefully\")"
   ]
  },
  {
   "cell_type": "code",
   "execution_count": 39,
   "metadata": {},
   "outputs": [
    {
     "name": "stdout",
     "output_type": "stream",
     "text": [
      "A number never divisible by 0 division by zero\n"
     ]
    }
   ],
   "source": [
    "try:\n",
    "    a=int(input(\"Kindly enter first number :\"))\n",
    "    b=eval(input(\"Enter your number :\"))\n",
    "    result=a/b\n",
    "    print(result)\n",
    "    \n",
    "except ZeroDivisionError as e:\n",
    "    print(\"A number never divisible by 0\",e)\n",
    "\n",
    "except NameError:\n",
    "    print(\"Alphanumeric value is not convertible into int\")\n",
    "\n",
    "except Exception as e:\n",
    "    print(\"Out of service\",e)\n",
    "\n",
    "else:\n",
    "    print(\"Code completed succefully\")"
   ]
  },
  {
   "cell_type": "code",
   "execution_count": 40,
   "metadata": {},
   "outputs": [
    {
     "name": "stdout",
     "output_type": "stream",
     "text": [
      "0.5\n"
     ]
    }
   ],
   "source": [
    "try:\n",
    "    a=int(input(\"Kindly enter first number :\"))\n",
    "    b=eval(input(\"Enter your number :\"))\n",
    "    result=a/b\n",
    "    print(result)\n",
    "    \n",
    "except ZeroDivisionError as e:\n",
    "    print(\"A number never divisible by 0\",e)\n",
    "\n",
    "except NameError:\n",
    "    print(\"Alphanumeric value is not convertible into int\")\n",
    "\n",
    "except Exception as e:\n",
    "    print(\"Out of service\",e)\n",
    "\n",
    "else:\n",
    "    a=int(input(\"enter your value again\"))"
   ]
  },
  {
   "cell_type": "code",
   "execution_count": 1,
   "metadata": {},
   "outputs": [
    {
     "name": "stdout",
     "output_type": "stream",
     "text": [
      "I am krishna and age is 27\n"
     ]
    }
   ],
   "source": [
    "name=input(\"Enter your name :\")\n",
    "age=input(\"Enter your age:\")\n",
    "\n",
    "print(\"I am {} and age is {}\".format(name,age))"
   ]
  },
  {
   "cell_type": "code",
   "execution_count": 2,
   "metadata": {},
   "outputs": [
    {
     "name": "stdout",
     "output_type": "stream",
     "text": [
      "I am raju and age is 21\n"
     ]
    }
   ],
   "source": [
    "name=input(\"Enter your name :\")\n",
    "age=input(\"Enter your age:\")\n",
    "\n",
    "print(\"I am {0} and age is {1}\".format(name,age))"
   ]
  },
  {
   "cell_type": "code",
   "execution_count": 4,
   "metadata": {},
   "outputs": [
    {
     "name": "stdout",
     "output_type": "stream",
     "text": [
      "I am 55 and age is mohan\n"
     ]
    }
   ],
   "source": [
    "name=input(\"Enter your name :\")\n",
    "age=input(\"Enter your age:\")\n",
    "\n",
    "print(\"I am {1} and age is {0}\".format(name,age))"
   ]
  },
  {
   "cell_type": "code",
   "execution_count": 7,
   "metadata": {},
   "outputs": [
    {
     "name": "stdout",
     "output_type": "stream",
     "text": [
      "I am krishna and age is 27\n"
     ]
    }
   ],
   "source": [
    "name=input(\"Enter your name :\")\n",
    "age=input(\"Enter your age:\")\n",
    "\n",
    "print(\"I am {1} and age is {0}\".format(age,name))"
   ]
  },
  {
   "cell_type": "code",
   "execution_count": null,
   "metadata": {},
   "outputs": [],
   "source": []
  }
 ],
 "metadata": {
  "kernelspec": {
   "display_name": "Python 3",
   "language": "python",
   "name": "python3"
  },
  "language_info": {
   "codemirror_mode": {
    "name": "ipython",
    "version": 3
   },
   "file_extension": ".py",
   "mimetype": "text/x-python",
   "name": "python",
   "nbconvert_exporter": "python",
   "pygments_lexer": "ipython3",
   "version": "3.11.2"
  },
  "orig_nbformat": 4
 },
 "nbformat": 4,
 "nbformat_minor": 2
}
