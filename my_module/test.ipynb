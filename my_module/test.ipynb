{
 "cells": [
  {
   "cell_type": "code",
   "execution_count": 1,
   "metadata": {},
   "outputs": [],
   "source": [
    "import re"
   ]
  },
  {
   "cell_type": "code",
   "execution_count": 2,
   "metadata": {},
   "outputs": [
    {
     "data": {
      "text/plain": [
       "['python', 'python']"
      ]
     },
     "execution_count": 2,
     "metadata": {},
     "output_type": "execute_result"
    }
   ],
   "source": [
    "\n",
    "re.findall(\"python\",\"python is a progarmming language and python is funny\")"
   ]
  },
  {
   "cell_type": "code",
   "execution_count": 3,
   "metadata": {},
   "outputs": [
    {
     "data": {
      "text/plain": [
       "['is', 'is', 'is']"
      ]
     },
     "execution_count": 3,
     "metadata": {},
     "output_type": "execute_result"
    }
   ],
   "source": [
    "re.findall(\"is\",\"this is krishna\")"
   ]
  },
  {
   "cell_type": "code",
   "execution_count": 12,
   "metadata": {},
   "outputs": [
    {
     "name": "stdout",
     "output_type": "stream",
     "text": [
      "th\n",
      "hi\n",
      "is\n",
      "s\n"
     ]
    }
   ],
   "source": [
    "cont=[]   # answer container\n",
    "cont1=[]  # combination of string container\n",
    "a=\"this\"   #[th,hi,is]\n",
    "sample=\"is\"\n",
    "\n",
    "for i in range(len(a)):\n",
    "    print(a[i:len(sample)+i])\n",
    "    cont1.append(a[i:len(sample)+i])"
   ]
  },
  {
   "cell_type": "code",
   "execution_count": 13,
   "metadata": {},
   "outputs": [
    {
     "data": {
      "text/plain": [
       "['th', 'hi', 'is', 's']"
      ]
     },
     "execution_count": 13,
     "metadata": {},
     "output_type": "execute_result"
    }
   ],
   "source": [
    "cont1"
   ]
  },
  {
   "cell_type": "code",
   "execution_count": 11,
   "metadata": {},
   "outputs": [
    {
     "data": {
      "text/plain": [
       "2"
      ]
     },
     "execution_count": 11,
     "metadata": {},
     "output_type": "execute_result"
    }
   ],
   "source": [
    "len(sample)"
   ]
  },
  {
   "cell_type": "code",
   "execution_count": 35,
   "metadata": {},
   "outputs": [
    {
     "name": "stdout",
     "output_type": "stream",
     "text": [
      "['is', 'is', 'is']\n"
     ]
    }
   ],
   "source": [
    "cont=[]   # answer container\n",
    "cont1=[]  # combination of string container\n",
    "a=\"this is krishna\"   #[th,hi,is]\n",
    "sample=\"is\"\n",
    "\n",
    "for i in range(len(a)):\n",
    "    cont1.append(a[i:len(sample)+i])\n",
    "for j in cont1:\n",
    "    if j==sample:\n",
    "        cont.append(sample)\n",
    "print(cont)\n"
   ]
  },
  {
   "cell_type": "code",
   "execution_count": 31,
   "metadata": {},
   "outputs": [
    {
     "name": "stdout",
     "output_type": "stream",
     "text": [
      "['th', 'hi', 'is', 's ', ' i', 'is', 's ', ' k', 'kr', 'ri', 'is', 'sh', 'hn', 'na', 'a']\n"
     ]
    }
   ],
   "source": [
    "print(cont1)"
   ]
  },
  {
   "cell_type": "code",
   "execution_count": 36,
   "metadata": {},
   "outputs": [],
   "source": [
    "def my_findall(sample,text):\n",
    "    cont=[]   # answer container\n",
    "    cont1=[]  # combination of string container\n",
    "    a=text   #[th,hi,is]\n",
    "    sample=sample\n",
    "\n",
    "    for i in range(len(a)):\n",
    "        cont1.append(a[i:len(sample)+i])\n",
    "    for j in cont1:\n",
    "        if j==sample:\n",
    "            cont.append(sample)\n",
    "    print(cont)"
   ]
  },
  {
   "cell_type": "code",
   "execution_count": 37,
   "metadata": {},
   "outputs": [
    {
     "name": "stdout",
     "output_type": "stream",
     "text": [
      "['python', 'python']\n"
     ]
    }
   ],
   "source": [
    "my_findall(\"python\",\"python is a funny language python\")"
   ]
  },
  {
   "cell_type": "code",
   "execution_count": 45,
   "metadata": {},
   "outputs": [],
   "source": [
    "def my_findall1(sample,text):\n",
    "    return [sample for j in [text[i:len(sample)+i] for i in range(len(text))] if j==sample]"
   ]
  },
  {
   "cell_type": "code",
   "execution_count": 46,
   "metadata": {},
   "outputs": [
    {
     "data": {
      "text/plain": [
       "['python', 'python']"
      ]
     },
     "execution_count": 46,
     "metadata": {},
     "output_type": "execute_result"
    }
   ],
   "source": [
    "my_findall1(\"python\",\"python is a funny language python\")"
   ]
  },
  {
   "cell_type": "code",
   "execution_count": 1,
   "metadata": {},
   "outputs": [],
   "source": [
    "# serach"
   ]
  },
  {
   "cell_type": "code",
   "execution_count": 2,
   "metadata": {},
   "outputs": [],
   "source": [
    "import re"
   ]
  },
  {
   "cell_type": "code",
   "execution_count": 18,
   "metadata": {},
   "outputs": [
    {
     "data": {
      "text/plain": [
       "2"
      ]
     },
     "execution_count": 18,
     "metadata": {},
     "output_type": "execute_result"
    }
   ],
   "source": [
    "X=re.search(\"is\",\"this is krishna\")\n",
    "X.start()"
   ]
  },
  {
   "cell_type": "code",
   "execution_count": 28,
   "metadata": {},
   "outputs": [],
   "source": [
    "def my_search(a,b):\n",
    "    seachable=a\n",
    "    string1=b\n",
    "\n",
    "    cont=[]\n",
    "    for i in range(len(string1)):\n",
    "        cont.append(string1[i:len(seachable)+i])\n",
    "    k=0\n",
    "    for i in cont:\n",
    "        if seachable==i:\n",
    "            print(k)\n",
    "            break\n",
    "        k+=1\n"
   ]
  },
  {
   "cell_type": "code",
   "execution_count": 29,
   "metadata": {},
   "outputs": [
    {
     "name": "stdout",
     "output_type": "stream",
     "text": [
      "0\n"
     ]
    }
   ],
   "source": [
    "my_search('rahul','rahul kumar yadav')"
   ]
  },
  {
   "cell_type": "code",
   "execution_count": 34,
   "metadata": {},
   "outputs": [],
   "source": [
    "def my_search(a,b):\n",
    "\n",
    "    cont=[b[i:len(a)+i] for i in range(len(b))]\n",
    "    k=0\n",
    "    for i in cont:\n",
    "        if a==i:\n",
    "            print(k)\n",
    "            break\n",
    "        k+=1\n"
   ]
  },
  {
   "cell_type": "code",
   "execution_count": 35,
   "metadata": {},
   "outputs": [
    {
     "name": "stdout",
     "output_type": "stream",
     "text": [
      "8\n"
     ]
    }
   ],
   "source": [
    "my_search(\"krishna\",\"this is krishna\")"
   ]
  },
  {
   "cell_type": "code",
   "execution_count": 53,
   "metadata": {},
   "outputs": [
    {
     "data": {
      "text/plain": [
       "['th', ' ', ' kr', 'hna']"
      ]
     },
     "execution_count": 53,
     "metadata": {},
     "output_type": "execute_result"
    }
   ],
   "source": [
    "re.split(\"is\", \"this is krishna\")"
   ]
  },
  {
   "cell_type": "code",
   "execution_count": 26,
   "metadata": {},
   "outputs": [],
   "source": [
    "def my_split():\n",
    "    cont=[]\n",
    "    pattern=\" \"\n",
    "    text=\"this is krishna\"\n",
    "    str1=\"\"\n",
    "    k=0\n",
    "    for i in text:\n",
    "        if i==pattern:\n",
    "            cont.append(str1)\n",
    "            str1=\"\"\n",
    "            continue\n",
    "        str1+=i\n",
    "        k+=1\n",
    "    else:\n",
    "        cont.append(str1.strip())\n",
    "    return cont"
   ]
  },
  {
   "cell_type": "code",
   "execution_count": 52,
   "metadata": {},
   "outputs": [
    {
     "data": {
      "text/plain": [
       "['this is Ducat']"
      ]
     },
     "execution_count": 52,
     "metadata": {},
     "output_type": "execute_result"
    }
   ],
   "source": [
    "my_split()"
   ]
  },
  {
   "cell_type": "code",
   "execution_count": 9,
   "metadata": {},
   "outputs": [
    {
     "data": {
      "text/plain": [
       "1"
      ]
     },
     "execution_count": 9,
     "metadata": {},
     "output_type": "execute_result"
    }
   ],
   "source": [
    "len(pattern)"
   ]
  },
  {
   "cell_type": "code",
   "execution_count": 10,
   "metadata": {},
   "outputs": [
    {
     "data": {
      "text/plain": [
       "1"
      ]
     },
     "execution_count": 10,
     "metadata": {},
     "output_type": "execute_result"
    }
   ],
   "source": [
    "a=\"s\"\n",
    "len(a)"
   ]
  },
  {
   "cell_type": "code",
   "execution_count": 27,
   "metadata": {},
   "outputs": [],
   "source": [
    "import re"
   ]
  },
  {
   "cell_type": "code",
   "execution_count": 34,
   "metadata": {},
   "outputs": [
    {
     "data": {
      "text/plain": [
       "'this is python'"
      ]
     },
     "execution_count": 34,
     "metadata": {},
     "output_type": "execute_result"
    }
   ],
   "source": [
    "re.sub(\"[^a-z ]\",\"\",\"thi43423423s is pyt543534534hon1\")"
   ]
  },
  {
   "cell_type": "code",
   "execution_count": null,
   "metadata": {},
   "outputs": [],
   "source": []
  }
 ],
 "metadata": {
  "kernelspec": {
   "display_name": "Python 3",
   "language": "python",
   "name": "python3"
  },
  "language_info": {
   "codemirror_mode": {
    "name": "ipython",
    "version": 3
   },
   "file_extension": ".py",
   "mimetype": "text/x-python",
   "name": "python",
   "nbconvert_exporter": "python",
   "pygments_lexer": "ipython3",
   "version": "3.11.2"
  },
  "orig_nbformat": 4
 },
 "nbformat": 4,
 "nbformat_minor": 2
}
