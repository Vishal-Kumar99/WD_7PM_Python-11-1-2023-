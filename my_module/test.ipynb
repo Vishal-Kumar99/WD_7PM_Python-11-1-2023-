{
 "cells": [
  {
   "cell_type": "code",
   "execution_count": 1,
   "metadata": {},
   "outputs": [],
   "source": [
    "import re"
   ]
  },
  {
   "cell_type": "code",
   "execution_count": 2,
   "metadata": {},
   "outputs": [
    {
     "data": {
      "text/plain": [
       "['python', 'python']"
      ]
     },
     "execution_count": 2,
     "metadata": {},
     "output_type": "execute_result"
    }
   ],
   "source": [
    "\n",
    "re.findall(\"python\",\"python is a progarmming language and python is funny\")"
   ]
  },
  {
   "cell_type": "code",
   "execution_count": 3,
   "metadata": {},
   "outputs": [
    {
     "data": {
      "text/plain": [
       "['is', 'is', 'is']"
      ]
     },
     "execution_count": 3,
     "metadata": {},
     "output_type": "execute_result"
    }
   ],
   "source": [
    "re.findall(\"is\",\"this is krishna\")"
   ]
  },
  {
   "cell_type": "code",
   "execution_count": 12,
   "metadata": {},
   "outputs": [
    {
     "name": "stdout",
     "output_type": "stream",
     "text": [
      "th\n",
      "hi\n",
      "is\n",
      "s\n"
     ]
    }
   ],
   "source": [
    "cont=[]   # answer container\n",
    "cont1=[]  # combination of string container\n",
    "a=\"this\"   #[th,hi,is]\n",
    "sample=\"is\"\n",
    "\n",
    "for i in range(len(a)):\n",
    "    print(a[i:len(sample)+i])\n",
    "    cont1.append(a[i:len(sample)+i])"
   ]
  },
  {
   "cell_type": "code",
   "execution_count": 13,
   "metadata": {},
   "outputs": [
    {
     "data": {
      "text/plain": [
       "['th', 'hi', 'is', 's']"
      ]
     },
     "execution_count": 13,
     "metadata": {},
     "output_type": "execute_result"
    }
   ],
   "source": [
    "cont1"
   ]
  },
  {
   "cell_type": "code",
   "execution_count": 11,
   "metadata": {},
   "outputs": [
    {
     "data": {
      "text/plain": [
       "2"
      ]
     },
     "execution_count": 11,
     "metadata": {},
     "output_type": "execute_result"
    }
   ],
   "source": [
    "len(sample)"
   ]
  },
  {
   "cell_type": "code",
   "execution_count": 35,
   "metadata": {},
   "outputs": [
    {
     "name": "stdout",
     "output_type": "stream",
     "text": [
      "['is', 'is', 'is']\n"
     ]
    }
   ],
   "source": [
    "cont=[]   # answer container\n",
    "cont1=[]  # combination of string container\n",
    "a=\"this is krishna\"   #[th,hi,is]\n",
    "sample=\"is\"\n",
    "\n",
    "for i in range(len(a)):\n",
    "    cont1.append(a[i:len(sample)+i])\n",
    "for j in cont1:\n",
    "    if j==sample:\n",
    "        cont.append(sample)\n",
    "print(cont)\n"
   ]
  },
  {
   "cell_type": "code",
   "execution_count": 31,
   "metadata": {},
   "outputs": [
    {
     "name": "stdout",
     "output_type": "stream",
     "text": [
      "['th', 'hi', 'is', 's ', ' i', 'is', 's ', ' k', 'kr', 'ri', 'is', 'sh', 'hn', 'na', 'a']\n"
     ]
    }
   ],
   "source": [
    "print(cont1)"
   ]
  },
  {
   "cell_type": "code",
   "execution_count": 36,
   "metadata": {},
   "outputs": [],
   "source": [
    "def my_findall(sample,text):\n",
    "    cont=[]   # answer container\n",
    "    cont1=[]  # combination of string container\n",
    "    a=text   #[th,hi,is]\n",
    "    sample=sample\n",
    "\n",
    "    for i in range(len(a)):\n",
    "        cont1.append(a[i:len(sample)+i])\n",
    "    for j in cont1:\n",
    "        if j==sample:\n",
    "            cont.append(sample)\n",
    "    print(cont)"
   ]
  },
  {
   "cell_type": "code",
   "execution_count": 37,
   "metadata": {},
   "outputs": [
    {
     "name": "stdout",
     "output_type": "stream",
     "text": [
      "['python', 'python']\n"
     ]
    }
   ],
   "source": [
    "my_findall(\"python\",\"python is a funny language python\")"
   ]
  },
  {
   "cell_type": "code",
   "execution_count": 45,
   "metadata": {},
   "outputs": [],
   "source": [
    "def my_findall1(sample,text):\n",
    "    return [sample for j in [text[i:len(sample)+i] for i in range(len(text))] if j==sample]"
   ]
  },
  {
   "cell_type": "code",
   "execution_count": 46,
   "metadata": {},
   "outputs": [
    {
     "data": {
      "text/plain": [
       "['python', 'python']"
      ]
     },
     "execution_count": 46,
     "metadata": {},
     "output_type": "execute_result"
    }
   ],
   "source": [
    "my_findall1(\"python\",\"python is a funny language python\")"
   ]
  },
  {
   "cell_type": "code",
   "execution_count": null,
   "metadata": {},
   "outputs": [],
   "source": []
  }
 ],
 "metadata": {
  "kernelspec": {
   "display_name": "Python 3",
   "language": "python",
   "name": "python3"
  },
  "language_info": {
   "codemirror_mode": {
    "name": "ipython",
    "version": 3
   },
   "file_extension": ".py",
   "mimetype": "text/x-python",
   "name": "python",
   "nbconvert_exporter": "python",
   "pygments_lexer": "ipython3",
   "version": "3.11.2"
  },
  "orig_nbformat": 4
 },
 "nbformat": 4,
 "nbformat_minor": 2
}
