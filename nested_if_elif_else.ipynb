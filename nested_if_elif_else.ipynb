{
 "cells": [
  {
   "cell_type": "code",
   "execution_count": 1,
   "metadata": {},
   "outputs": [
    {
     "name": "stdout",
     "output_type": "stream",
     "text": [
      "213\n"
     ]
    }
   ],
   "source": [
    "# +,-,/,*\n",
    "num1=int(input(\"Enter your first number :\")) #10\n",
    "num2=int(input(\"Enter your second number :\")) #223\n",
    "options=input(\"Kindly choose one operation +,-,/,* :\")\n",
    "\n",
    "if options==\"+\":\n",
    "    result=num1+num2\n",
    "    print(result)\n",
    "elif options==\"-\":\n",
    "    if num1<num2:\n",
    "        num1,num2=(num2,num1)\n",
    "        result=num1-num2\n",
    "        print(result)\n",
    "    else:\n",
    "        result=num1-num2\n",
    "        print(result)\n",
    "elif options==\"/\":\n",
    "    result=num1/num2\n",
    "    print(result)\n",
    "elif options==\"*\":\n",
    "    result=num1*num2\n",
    "    print(result)\n",
    "else:\n",
    "    print(\"Kindly choose a valid option\")"
   ]
  },
  {
   "cell_type": "code",
   "execution_count": 6,
   "metadata": {},
   "outputs": [
    {
     "name": "stdout",
     "output_type": "stream",
     "text": [
      "213\n"
     ]
    }
   ],
   "source": [
    "# +,-,/,*\n",
    "num1=int(input(\"Enter your first number :\")) #223\n",
    "num2=int(input(\"Enter your second number :\")) #10\n",
    "options=input(\"Kindly choose one operation +,-,/,* :\")\n",
    "\n",
    "if options==\"+\":\n",
    "    print(num1+num2)\n",
    "elif options==\"-\":\n",
    "    if num1<num2:\n",
    "        num1,num2=(num2,num1)\n",
    "        print(num1-num2)\n",
    "    elif num1==num2:\n",
    "        print(\"num1 and num2 are equal\")\n",
    "    else:\n",
    "        print(num1-num2)\n",
    "elif options==\"/\":\n",
    "    print(num1/num2)\n",
    "elif options==\"*\":\n",
    "    print(num1*num2)\n",
    "else:\n",
    "    print(\"Kindly choose a valid option\")"
   ]
  },
  {
   "cell_type": "code",
   "execution_count": 7,
   "metadata": {},
   "outputs": [
    {
     "name": "stdout",
     "output_type": "stream",
     "text": [
      "num1 and num2 are equal\n"
     ]
    }
   ],
   "source": [
    "# +,-,/,*\n",
    "num1=int(input(\"Enter your first number :\")) #223\n",
    "num2=int(input(\"Enter your second number :\")) #10\n",
    "options=input(\"Kindly choose one operation +,-,/,* :\")\n",
    "\n",
    "if options==\"+\":\n",
    "    print(num1+num2)\n",
    "elif options==\"-\":\n",
    "    if num1<num2:\n",
    "        num1,num2=(num2,num1)\n",
    "        print(num1-num2)\n",
    "    elif num1==num2:\n",
    "        print(\"num1 and num2 are equal\")\n",
    "    else:\n",
    "        print(num1-num2)\n",
    "elif options==\"/\":\n",
    "    print(num1/num2)\n",
    "elif options==\"*\":\n",
    "    print(num1*num2)\n",
    "else:\n",
    "    print(\"Kindly choose a valid option\")"
   ]
  },
  {
   "cell_type": "code",
   "execution_count": 1,
   "metadata": {},
   "outputs": [
    {
     "name": "stdout",
     "output_type": "stream",
     "text": [
      "2 is less then 3\n"
     ]
    }
   ],
   "source": [
    "if 2<3:\n",
    "    print(\"2 is less then 3\")\n",
    "else:\n",
    "    print(\"2 is greater then 3\")"
   ]
  },
  {
   "cell_type": "code",
   "execution_count": 4,
   "metadata": {},
   "outputs": [
    {
     "name": "stdout",
     "output_type": "stream",
     "text": [
      "2 is less then 3\n"
     ]
    }
   ],
   "source": [
    "print(\"2 is less then 3\" if 2<3 else \"2 is greater then 3\")"
   ]
  },
  {
   "cell_type": "code",
   "execution_count": 11,
   "metadata": {},
   "outputs": [
    {
     "name": "stdout",
     "output_type": "stream",
     "text": [
      "3 is equal to 3\n"
     ]
    }
   ],
   "source": [
    "if 2>3:\n",
    "    if 2!=2:\n",
    "        print(\"2 is equal to 2\")\n",
    "    else:\n",
    "        print(\"2 is not equal to 2\")\n",
    "else:\n",
    "    if 3==3:\n",
    "        print(\"3 is equal to 3\")\n",
    "    else:\n",
    "        print(\"3 is not equal to 3\")"
   ]
  },
  {
   "cell_type": "code",
   "execution_count": 12,
   "metadata": {},
   "outputs": [
    {
     "name": "stdout",
     "output_type": "stream",
     "text": [
      "3 is equal to 3\n"
     ]
    }
   ],
   "source": [
    "# ternary operator\n",
    "print(\"2 is equal to 2\" if 2!=2 else \"2 is not equal to 2\" if 2>3  else \"3 is equal to 3\" if 3==3 else \"3 is not equal to 3\")"
   ]
  },
  {
   "cell_type": "code",
   "execution_count": null,
   "metadata": {},
   "outputs": [],
   "source": []
  }
 ],
 "metadata": {
  "kernelspec": {
   "display_name": "Python 3",
   "language": "python",
   "name": "python3"
  },
  "language_info": {
   "codemirror_mode": {
    "name": "ipython",
    "version": 3
   },
   "file_extension": ".py",
   "mimetype": "text/x-python",
   "name": "python",
   "nbconvert_exporter": "python",
   "pygments_lexer": "ipython3",
   "version": "3.11.2"
  },
  "orig_nbformat": 4,
  "vscode": {
   "interpreter": {
    "hash": "47ba72d4fb05e28199db6c34b2c0ce05f7d0fccec695ef0642a96a8661cc57fd"
   }
  }
 },
 "nbformat": 4,
 "nbformat_minor": 2
}
