{
 "cells": [
  {
   "cell_type": "code",
   "execution_count": 5,
   "metadata": {},
   "outputs": [
    {
     "name": "stdout",
     "output_type": "stream",
     "text": [
      "Draupadi is the President\n"
     ]
    }
   ],
   "source": [
    "question=input(\"Who is President of India?\")\n",
    "\n",
    "if question==\"modi\":\n",
    "    print(\"Modi is not president\")\n",
    "elif question == \"rahul\":\n",
    "    print(\"Rahul is not president\")\n",
    "elif question==\"draupadi\":\n",
    "    print(\"Draupadi is the President\")\n",
    "elif question==\"none\":\n",
    "    print(\"False answer\")\n",
    "else:\n",
    "    print(\"kindly try again\")"
   ]
  },
  {
   "cell_type": "code",
   "execution_count": 7,
   "metadata": {},
   "outputs": [
    {
     "name": "stdout",
     "output_type": "stream",
     "text": [
      "Modi is not president\n"
     ]
    }
   ],
   "source": [
    "question=input(\"Who is President of India?\")\n",
    "\n",
    "if question==\"rahul\":\n",
    "    print(\"Modi is not president\")\n",
    "elif question == \"rahul\":\n",
    "    print(\"Rahul is not president\")\n",
    "elif question==\"draupadi\":\n",
    "    print(\"Draupadi is the President\")\n",
    "elif question==\"none\":\n",
    "    print(\"False answer\")\n",
    "else:\n",
    "    print(\"kindly try again\")"
   ]
  },
  {
   "cell_type": "code",
   "execution_count": 8,
   "metadata": {},
   "outputs": [
    {
     "name": "stdout",
     "output_type": "stream",
     "text": [
      "kindly try again\n"
     ]
    }
   ],
   "source": [
    "question=input(\"Who is President of India?\")\n",
    "\n",
    "if question==\"modi\":\n",
    "    print(\"Modi is not president\")\n",
    "elif question == \"rahul\":\n",
    "    print(\"Rahul is not president\")\n",
    "elif question==\"draupadi\":\n",
    "    print(\"Draupadi is the President\")\n",
    "elif question==\"none\":\n",
    "    print(\"False answer\")\n",
    "else:\n",
    "    print(\"kindly try again\")"
   ]
  },
  {
   "cell_type": "code",
   "execution_count": 9,
   "metadata": {},
   "outputs": [
    {
     "name": "stdout",
     "output_type": "stream",
     "text": [
      "Rahul is not president\n"
     ]
    }
   ],
   "source": [
    "question=input(\"Who is President of India?\")\n",
    "\n",
    "if question==\"modi\":\n",
    "    print(\"Modi is not president\")\n",
    "elif question == \"draupadi\":\n",
    "    print(\"Rahul is not president\")\n",
    "elif question==\"draupadi\":\n",
    "    print(\"Draupadi is the President\")\n",
    "elif question==\"none\":\n",
    "    print(\"False answer\")\n",
    "else:\n",
    "    print(\"kindly try again\")"
   ]
  },
  {
   "cell_type": "code",
   "execution_count": 10,
   "metadata": {},
   "outputs": [
    {
     "name": "stdout",
     "output_type": "stream",
     "text": [
      "Rahul is not president\n",
      "Draupadi is the President\n"
     ]
    }
   ],
   "source": [
    "question=input(\"Who is President of India?\")\n",
    "\n",
    "if question==\"modi\":\n",
    "    print(\"Modi is not president\")\n",
    "if question == \"draupadi\":\n",
    "    print(\"Rahul is not president\")\n",
    "if question==\"draupadi\":\n",
    "    print(\"Draupadi is the President\")\n",
    "elif question==\"none\":\n",
    "    print(\"False answer\")\n",
    "else:\n",
    "    print(\"kindly try again\")"
   ]
  },
  {
   "cell_type": "code",
   "execution_count": 11,
   "metadata": {},
   "outputs": [],
   "source": [
    "question=input(\"Who is President of India?\")\n",
    "\n",
    "if question==\"modi\":\n",
    "    print(\"Modi is not president\")\n",
    "elif question == \"draupadi\":\n",
    "    print(\"Rahul is not president\")\n",
    "if question==\"draupadi\":\n",
    "    print(\"Draupadi is the President\")\n",
    "elif question==\"none\":\n",
    "    print(\"False answer\")\n",
    "else:\n",
    "    print(\"kindly try again\")"
   ]
  },
  {
   "cell_type": "code",
   "execution_count": 12,
   "metadata": {},
   "outputs": [
    {
     "name": "stdout",
     "output_type": "stream",
     "text": [
      "30\n"
     ]
    }
   ],
   "source": [
    "# +,-,/,*\n",
    "num1=int(input(\"Enter your first number :\")) #10\n",
    "num2=int(input(\"Enter your second number :\")) #20\n",
    "options=input(\"Kindly choose one operation +,-,/,* :\")\n",
    "\n",
    "if options==\"+\":\n",
    "    result=num1+num2\n",
    "    print(result)\n",
    "elif options==\"-\":\n",
    "    result=num1-num2\n",
    "    print(result)\n",
    "elif options==\"/\":\n",
    "    result=num1/num2\n",
    "    print(result)\n",
    "elif options==\"*\":\n",
    "    result=num1*num2\n",
    "    print(result)\n",
    "else:\n",
    "    print(\"Kindly choose a valid option\")"
   ]
  },
  {
   "cell_type": "code",
   "execution_count": 13,
   "metadata": {},
   "outputs": [
    {
     "name": "stdout",
     "output_type": "stream",
     "text": [
      "-10\n"
     ]
    }
   ],
   "source": [
    "# +,-,/,*\n",
    "num1=int(input(\"Enter your first number :\")) #10\n",
    "num2=int(input(\"Enter your second number :\")) #20\n",
    "options=input(\"Kindly choose one operation +,-,/,* :\")\n",
    "\n",
    "if options==\"+\":\n",
    "    result=num1+num2\n",
    "    print(result)\n",
    "elif options==\"-\":\n",
    "    result=num1-num2\n",
    "    print(result)\n",
    "elif options==\"/\":\n",
    "    result=num1/num2\n",
    "    print(result)\n",
    "elif options==\"*\":\n",
    "    result=num1*num2\n",
    "    print(result)\n",
    "else:\n",
    "    print(\"Kindly choose a valid option\")"
   ]
  },
  {
   "cell_type": "code",
   "execution_count": 14,
   "metadata": {},
   "outputs": [
    {
     "name": "stdout",
     "output_type": "stream",
     "text": [
      "200\n"
     ]
    }
   ],
   "source": [
    "# +,-,/,*\n",
    "num1=int(input(\"Enter your first number :\")) #10\n",
    "num2=int(input(\"Enter your second number :\")) #20\n",
    "options=input(\"Kindly choose one operation +,-,/,* :\")\n",
    "\n",
    "if options==\"+\":\n",
    "    result=num1+num2\n",
    "    print(result)\n",
    "elif options==\"-\":\n",
    "    result=num1-num2\n",
    "    print(result)\n",
    "elif options==\"/\":\n",
    "    result=num1/num2\n",
    "    print(result)\n",
    "elif options==\"*\":\n",
    "    result=num1*num2\n",
    "    print(result)\n",
    "else:\n",
    "    print(\"Kindly choose a valid option\")"
   ]
  },
  {
   "cell_type": "code",
   "execution_count": 15,
   "metadata": {},
   "outputs": [
    {
     "name": "stdout",
     "output_type": "stream",
     "text": [
      "Kindly choose a valid option\n"
     ]
    }
   ],
   "source": [
    "# +,-,/,*\n",
    "num1=int(input(\"Enter your first number :\")) #10\n",
    "num2=int(input(\"Enter your second number :\")) #20\n",
    "options=input(\"Kindly choose one operation +,-,/,* :\")\n",
    "\n",
    "if options==\"+\":\n",
    "    result=num1+num2\n",
    "    print(result)\n",
    "elif options==\"-\":\n",
    "    result=num1-num2\n",
    "    print(result)\n",
    "elif options==\"/\":\n",
    "    result=num1/num2\n",
    "    print(result)\n",
    "elif options==\"*\":\n",
    "    result=num1*num2\n",
    "    print(result)\n",
    "else:\n",
    "    print(\"Kindly choose a valid option\")"
   ]
  },
  {
   "cell_type": "code",
   "execution_count": null,
   "metadata": {},
   "outputs": [],
   "source": []
  }
 ],
 "metadata": {
  "kernelspec": {
   "display_name": "Python 3",
   "language": "python",
   "name": "python3"
  },
  "language_info": {
   "codemirror_mode": {
    "name": "ipython",
    "version": 3
   },
   "file_extension": ".py",
   "mimetype": "text/x-python",
   "name": "python",
   "nbconvert_exporter": "python",
   "pygments_lexer": "ipython3",
   "version": "3.11.2"
  },
  "orig_nbformat": 4,
  "vscode": {
   "interpreter": {
    "hash": "47ba72d4fb05e28199db6c34b2c0ce05f7d0fccec695ef0642a96a8661cc57fd"
   }
  }
 },
 "nbformat": 4,
 "nbformat_minor": 2
}
