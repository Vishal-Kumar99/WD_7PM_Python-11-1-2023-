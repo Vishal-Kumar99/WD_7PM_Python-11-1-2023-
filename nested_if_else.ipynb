{
 "cells": [
  {
   "cell_type": "code",
   "execution_count": 2,
   "metadata": {},
   "outputs": [],
   "source": [
    "#nested if else"
   ]
  },
  {
   "cell_type": "code",
   "execution_count": 4,
   "metadata": {},
   "outputs": [
    {
     "name": "stdout",
     "output_type": "stream",
     "text": [
      "Welcome to Ram Bharose bank\n"
     ]
    }
   ],
   "source": [
    "a=input(\"Enter your atm pin :\") #'9807'\n",
    "if a==\"9807\":\n",
    "    print(\"Welcome to Ram Bharose bank\")\n",
    "else:\n",
    "    print(\"Kindly enter a valid pin\")\n"
   ]
  },
  {
   "cell_type": "code",
   "execution_count": 5,
   "metadata": {},
   "outputs": [
    {
     "name": "stdout",
     "output_type": "stream",
     "text": [
      "Kindly enter a valid pin\n"
     ]
    }
   ],
   "source": [
    "a=input(\"Enter your atm pin :\") #'9807'\n",
    "if a==\"9807\":\n",
    "    print(\"Welcome to Ram Bharose bank\")\n",
    "else:\n",
    "    print(\"Kindly enter a valid pin\")"
   ]
  },
  {
   "cell_type": "code",
   "execution_count": 6,
   "metadata": {},
   "outputs": [
    {
     "name": "stdout",
     "output_type": "stream",
     "text": [
      "Welcome to Ram Bharose bank\n",
      "Kindly collect your amount  5000\n"
     ]
    }
   ],
   "source": [
    "a=input(\"Enter your atm pin :\") #'9807'\n",
    "if a==\"9807\":\n",
    "    print(\"Welcome to Kotak Mahindra bank\")\n",
    "    balance=int(input(\"Kindly enter your amount :\"))\n",
    "    if balance<=10000:\n",
    "        print(\"Kindly collect your amount \",balance)\n",
    "    else:\n",
    "        print(\"Sorry insufficient fund!!!\")\n",
    "else:\n",
    "    print(\"Kindly enter a valid pin\")"
   ]
  },
  {
   "cell_type": "code",
   "execution_count": 7,
   "metadata": {},
   "outputs": [
    {
     "name": "stdout",
     "output_type": "stream",
     "text": [
      "Kindly enter a valid pin\n"
     ]
    }
   ],
   "source": [
    "a=input(\"Enter your atm pin :\") #'9807'\n",
    "if a==\"9807\":\n",
    "    print(\"Welcome to Kotak Mahindra bank\")\n",
    "    balance=int(input(\"Kindly enter your amount :\"))\n",
    "    if balance<=10000:\n",
    "        print(\"Kindly collect your amount \",balance)\n",
    "    else:\n",
    "        print(\"Sorry insufficient fund!!!\")\n",
    "else:\n",
    "    print(\"Kindly enter a valid pin\")"
   ]
  },
  {
   "cell_type": "code",
   "execution_count": 8,
   "metadata": {},
   "outputs": [
    {
     "name": "stdout",
     "output_type": "stream",
     "text": [
      "Kindly enter a valid pin\n",
      "Welcome to Kotak Mahindra bank\n"
     ]
    }
   ],
   "source": [
    "a=input(\"Enter your atm pin :\") #'9807'\n",
    "if a==\"9807\":\n",
    "    print(\"Welcome to Kotak Mahindra bank\")\n",
    "    balance=int(input(\"Kindly enter your amount :\"))\n",
    "    if balance<=10000:\n",
    "        print(\"Kindly collect your amount \",balance)\n",
    "    else:\n",
    "        print(\"Sorry insufficient fund!!!\")\n",
    "else:\n",
    "    print(\"Kindly enter a valid pin\")\n",
    "    a=input(\"Enter your atm pin :\")\n",
    "    if a==\"9807\":\n",
    "        print(\"Welcome to Kotak Mahindra bank\")\n",
    "    else:\n",
    "        print(\"Nikal\")"
   ]
  },
  {
   "cell_type": "code",
   "execution_count": 9,
   "metadata": {},
   "outputs": [
    {
     "name": "stdout",
     "output_type": "stream",
     "text": [
      "Kindly enter a valid pin\n",
      "Nikal\n"
     ]
    }
   ],
   "source": [
    "a=input(\"Enter your atm pin :\") #'9807'\n",
    "if a==\"9807\":\n",
    "    print(\"Welcome to Kotak Mahindra bank\")\n",
    "    balance=int(input(\"Kindly enter your amount :\"))\n",
    "    if balance<=10000:\n",
    "        print(\"Kindly collect your amount \",balance)\n",
    "    else:\n",
    "        print(\"Sorry insufficient fund!!!\")\n",
    "else:\n",
    "    print(\"Kindly enter a valid pin\")\n",
    "    a=input(\"Enter your atm pin :\")\n",
    "    if a==\"9807\":\n",
    "        print(\"Welcome to Kotak Mahindra bank\")\n",
    "    else:\n",
    "        print(\"Nikal\")"
   ]
  },
  {
   "cell_type": "code",
   "execution_count": 10,
   "metadata": {},
   "outputs": [
    {
     "name": "stdout",
     "output_type": "stream",
     "text": [
      "Kindly enter a valid pin\n",
      "Welcome to Kotak Mahindra bank\n",
      "Insufficient fund\n"
     ]
    }
   ],
   "source": [
    "a=input(\"Enter your atm pin :\") #'9807'\n",
    "if a==\"9807\":\n",
    "    print(\"Welcome to Kotak Mahindra bank\")\n",
    "    balance=int(input(\"Kindly enter your amount :\"))\n",
    "    if balance<=10000:\n",
    "        print(\"Kindly collect your amount \",balance)\n",
    "    else:\n",
    "        print(\"Sorry insufficient fund!!!\")\n",
    "else:\n",
    "    print(\"Kindly enter a valid pin\")\n",
    "    a=input(\"Kindly re-enter your atm pin :\")\n",
    "    if a==\"9807\":\n",
    "        print(\"Welcome to Kotak Mahindra bank\")\n",
    "        balance=int(input(\"Kindly enter your amount :\"))\n",
    "        if balance<=10000:\n",
    "            print(\"Kindly collect your cash\",balance)\n",
    "        else:\n",
    "            print(\"Insufficient fund\")\n",
    "    else:\n",
    "        print(\"Contact to branch\")"
   ]
  },
  {
   "cell_type": "code",
   "execution_count": null,
   "metadata": {},
   "outputs": [],
   "source": []
  }
 ],
 "metadata": {
  "kernelspec": {
   "display_name": "Python 3",
   "language": "python",
   "name": "python3"
  },
  "language_info": {
   "codemirror_mode": {
    "name": "ipython",
    "version": 3
   },
   "file_extension": ".py",
   "mimetype": "text/x-python",
   "name": "python",
   "nbconvert_exporter": "python",
   "pygments_lexer": "ipython3",
   "version": "3.11.2"
  },
  "orig_nbformat": 4,
  "vscode": {
   "interpreter": {
    "hash": "47ba72d4fb05e28199db6c34b2c0ce05f7d0fccec695ef0642a96a8661cc57fd"
   }
  }
 },
 "nbformat": 4,
 "nbformat_minor": 2
}
