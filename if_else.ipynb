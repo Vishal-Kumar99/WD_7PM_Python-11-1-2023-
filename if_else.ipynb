{
 "cells": [
  {
   "cell_type": "code",
   "execution_count": 3,
   "metadata": {},
   "outputs": [
    {
     "name": "stdout",
     "output_type": "stream",
     "text": [
      "Lucknow\n"
     ]
    }
   ],
   "source": [
    "user=input(\"choose a path a or b :\")  #\"a\"\n",
    "if user==\"a\":\n",
    "    print(\"Lucknow\")\n",
    "else:\n",
    "    print(\"Varanasi\")"
   ]
  },
  {
   "cell_type": "code",
   "execution_count": 4,
   "metadata": {},
   "outputs": [
    {
     "name": "stdout",
     "output_type": "stream",
     "text": [
      "Varanasi\n"
     ]
    }
   ],
   "source": [
    "user=input(\"choose a path a or b :\")  #\"a\"\n",
    "if user==\"a\":\n",
    "    print(\"Lucknow\")\n",
    "else:\n",
    "    print(\"Varanasi\")"
   ]
  },
  {
   "cell_type": "code",
   "execution_count": 5,
   "metadata": {},
   "outputs": [
    {
     "name": "stdout",
     "output_type": "stream",
     "text": [
      "Lucknow\n",
      "this is UP\n"
     ]
    }
   ],
   "source": [
    "user=input(\"choose a path a or b :\")  #\"a\"\n",
    "if user==\"a\":\n",
    "  print(\"Lucknow\")\n",
    "  print(\"this is UP\")\n",
    "else:\n",
    "  print(\"Varanasi\")"
   ]
  },
  {
   "cell_type": "code",
   "execution_count": 6,
   "metadata": {},
   "outputs": [
    {
     "name": "stdout",
     "output_type": "stream",
     "text": [
      "Varanasi\n"
     ]
    }
   ],
   "source": [
    "user=input(\"choose a path a or b :\")  #\"a\"\n",
    "if user==\"a\":\n",
    "  print(\"Lucknow\")\n",
    "  print(\"this is UP\")\n",
    "else:\n",
    "  print(\"Varanasi\")"
   ]
  },
  {
   "cell_type": "code",
   "execution_count": 7,
   "metadata": {},
   "outputs": [
    {
     "name": "stdout",
     "output_type": "stream",
     "text": [
      "Lucknow\n",
      "this is UP\n"
     ]
    }
   ],
   "source": [
    "user=input(\"choose a path a or b :\")  #\"a\"\n",
    "if user==\"a\":\n",
    "  print(\"Lucknow\")\n",
    "  print(\"this is UP\")\n",
    "else:\n",
    "  print(\"Varanasi\")"
   ]
  },
  {
   "cell_type": "code",
   "execution_count": 8,
   "metadata": {},
   "outputs": [
    {
     "name": "stdout",
     "output_type": "stream",
     "text": [
      "Lucknow\n",
      "this is UP\n"
     ]
    }
   ],
   "source": [
    "user=input(\"choose a path a or b :\")  #\"a\"\n",
    "if user==\"a\":\n",
    "  print(\"Lucknow\")\n",
    "  print(\"this is UP\")"
   ]
  },
  {
   "cell_type": "code",
   "execution_count": 9,
   "metadata": {},
   "outputs": [],
   "source": [
    "user=input(\"choose a path a or b :\")  #\"a\"\n",
    "if user==\"a\":\n",
    "  print(\"Lucknow\")\n",
    "  print(\"this is UP\")"
   ]
  },
  {
   "cell_type": "code",
   "execution_count": 10,
   "metadata": {},
   "outputs": [
    {
     "ename": "SyntaxError",
     "evalue": "invalid syntax (933201262.py, line 2)",
     "output_type": "error",
     "traceback": [
      "\u001b[1;36m  Cell \u001b[1;32mIn[10], line 2\u001b[1;36m\u001b[0m\n\u001b[1;33m    else:\u001b[0m\n\u001b[1;37m    ^\u001b[0m\n\u001b[1;31mSyntaxError\u001b[0m\u001b[1;31m:\u001b[0m invalid syntax\n"
     ]
    }
   ],
   "source": [
    "user=input(\"choose a path a or b :\")  #\"a\"\n",
    "else:\n",
    "  print(\"Varanasi\")"
   ]
  },
  {
   "cell_type": "code",
   "execution_count": 11,
   "metadata": {},
   "outputs": [
    {
     "name": "stdout",
     "output_type": "stream",
     "text": [
      "user enter a value= 2\n"
     ]
    }
   ],
   "source": [
    "user=int(input(\"Enter your number :\"))\n",
    "if user==2:\n",
    "    print(\"user enter a value= 2\")"
   ]
  },
  {
   "cell_type": "code",
   "execution_count": 12,
   "metadata": {},
   "outputs": [
    {
     "ename": "ValueError",
     "evalue": "invalid literal for int() with base 10: '2k'",
     "output_type": "error",
     "traceback": [
      "\u001b[1;31m---------------------------------------------------------------------------\u001b[0m",
      "\u001b[1;31mValueError\u001b[0m                                Traceback (most recent call last)",
      "Cell \u001b[1;32mIn[12], line 1\u001b[0m\n\u001b[1;32m----> 1\u001b[0m user\u001b[39m=\u001b[39m\u001b[39mint\u001b[39;49m(\u001b[39minput\u001b[39;49m(\u001b[39m\"\u001b[39;49m\u001b[39mEnter your number :\u001b[39;49m\u001b[39m\"\u001b[39;49m))\n\u001b[0;32m      2\u001b[0m \u001b[39mif\u001b[39;00m user\u001b[39m==\u001b[39m\u001b[39m2\u001b[39m:\n\u001b[0;32m      3\u001b[0m     \u001b[39mprint\u001b[39m(\u001b[39m\"\u001b[39m\u001b[39muser enter a value= 2\u001b[39m\u001b[39m\"\u001b[39m)\n",
      "\u001b[1;31mValueError\u001b[0m: invalid literal for int() with base 10: '2k'"
     ]
    }
   ],
   "source": [
    "user=int(input(\"Enter your number :\"))\n",
    "if user==2:\n",
    "    print(\"user enter a value= 2\")"
   ]
  },
  {
   "cell_type": "code",
   "execution_count": 13,
   "metadata": {},
   "outputs": [
    {
     "name": "stdout",
     "output_type": "stream",
     "text": [
      "user enter a value= 2\n"
     ]
    }
   ],
   "source": [
    "user=int(input(\"Enter your number :\"))\n",
    "if user==2:\n",
    "    print(\"user enter a value= 2\")\n",
    "else:\n",
    "    print(\"this is not number 2\")"
   ]
  },
  {
   "cell_type": "code",
   "execution_count": 14,
   "metadata": {},
   "outputs": [
    {
     "name": "stdout",
     "output_type": "stream",
     "text": [
      "this is not number 2\n"
     ]
    }
   ],
   "source": [
    "user=int(input(\"Enter your number :\"))\n",
    "if user==2:\n",
    "    print(\"user enter a value= 2\")\n",
    "else:\n",
    "    print(\"this is not number 2\")"
   ]
  },
  {
   "cell_type": "code",
   "execution_count": 15,
   "metadata": {},
   "outputs": [
    {
     "ename": "ValueError",
     "evalue": "invalid literal for int() with base 10: '2.0'",
     "output_type": "error",
     "traceback": [
      "\u001b[1;31m---------------------------------------------------------------------------\u001b[0m",
      "\u001b[1;31mValueError\u001b[0m                                Traceback (most recent call last)",
      "Cell \u001b[1;32mIn[15], line 1\u001b[0m\n\u001b[1;32m----> 1\u001b[0m user\u001b[39m=\u001b[39m\u001b[39mint\u001b[39;49m(\u001b[39minput\u001b[39;49m(\u001b[39m\"\u001b[39;49m\u001b[39mEnter your number :\u001b[39;49m\u001b[39m\"\u001b[39;49m))\n\u001b[0;32m      2\u001b[0m \u001b[39mif\u001b[39;00m user\u001b[39m==\u001b[39m\u001b[39m2\u001b[39m:\n\u001b[0;32m      3\u001b[0m     \u001b[39mprint\u001b[39m(\u001b[39m\"\u001b[39m\u001b[39muser enter a value= 2\u001b[39m\u001b[39m\"\u001b[39m)\n",
      "\u001b[1;31mValueError\u001b[0m: invalid literal for int() with base 10: '2.0'"
     ]
    }
   ],
   "source": [
    "user=int(input(\"Enter your number :\"))\n",
    "if user==2:\n",
    "    print(\"user enter a value= 2\")\n",
    "else:\n",
    "    print(\"this is not number 2\")\n",
    "    "
   ]
  },
  {
   "cell_type": "code",
   "execution_count": 17,
   "metadata": {},
   "outputs": [
    {
     "name": "stdout",
     "output_type": "stream",
     "text": [
      "Lucknow\n",
      "this is UP\n"
     ]
    },
    {
     "ename": "ValueError",
     "evalue": "invalid literal for int() with base 10: 'a'",
     "output_type": "error",
     "traceback": [
      "\u001b[1;31m---------------------------------------------------------------------------\u001b[0m",
      "\u001b[1;31mValueError\u001b[0m                                Traceback (most recent call last)",
      "Cell \u001b[1;32mIn[17], line 5\u001b[0m\n\u001b[0;32m      3\u001b[0m   \u001b[39mprint\u001b[39m(\u001b[39m\"\u001b[39m\u001b[39mLucknow\u001b[39m\u001b[39m\"\u001b[39m)\n\u001b[0;32m      4\u001b[0m   \u001b[39mprint\u001b[39m(\u001b[39m\"\u001b[39m\u001b[39mthis is UP\u001b[39m\u001b[39m\"\u001b[39m)\n\u001b[1;32m----> 5\u001b[0m \u001b[39mif\u001b[39;00m \u001b[39mint\u001b[39;49m(user)\u001b[39m==\u001b[39m\u001b[39m2\u001b[39m:\n\u001b[0;32m      6\u001b[0m     \u001b[39mprint\u001b[39m(\u001b[39m\"\u001b[39m\u001b[39muser enter a value= 2\u001b[39m\u001b[39m\"\u001b[39m)\n",
      "\u001b[1;31mValueError\u001b[0m: invalid literal for int() with base 10: 'a'"
     ]
    }
   ],
   "source": [
    "user=input(\"Enter your number :\")\n",
    "if user==\"a\":\n",
    "  print(\"Lucknow\")\n",
    "  print(\"this is UP\")\n",
    "if int(user)==2:\n",
    "    print(\"user enter a value= 2\")\n"
   ]
  },
  {
   "cell_type": "code",
   "execution_count": null,
   "metadata": {},
   "outputs": [],
   "source": []
  }
 ],
 "metadata": {
  "kernelspec": {
   "display_name": "Python 3",
   "language": "python",
   "name": "python3"
  },
  "language_info": {
   "codemirror_mode": {
    "name": "ipython",
    "version": 3
   },
   "file_extension": ".py",
   "mimetype": "text/x-python",
   "name": "python",
   "nbconvert_exporter": "python",
   "pygments_lexer": "ipython3",
   "version": "3.11.2"
  },
  "orig_nbformat": 4,
  "vscode": {
   "interpreter": {
    "hash": "47ba72d4fb05e28199db6c34b2c0ce05f7d0fccec695ef0642a96a8661cc57fd"
   }
  }
 },
 "nbformat": 4,
 "nbformat_minor": 2
}
