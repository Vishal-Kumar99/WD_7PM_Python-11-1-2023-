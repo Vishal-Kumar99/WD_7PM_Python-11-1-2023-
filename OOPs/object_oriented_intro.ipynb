{
 "cells": [
  {
   "cell_type": "code",
   "execution_count": 1,
   "metadata": {},
   "outputs": [],
   "source": [
    "# terminalogies:\n",
    "\n",
    "# Blueprint --> class\n",
    "\n",
    "#constructor -->\n",
    "\n",
    "#encapsulation\n",
    "\n",
    "# Inheritance\n",
    "\n",
    "#polymorphism\n",
    "\n",
    "#Abstraction\n",
    "\n",
    "\n",
    "    # class variable\n",
    "\n",
    "    # instance variable\n",
    "\n",
    "    # class method\n",
    "    # static method\n"
   ]
  },
  {
   "cell_type": "code",
   "execution_count": 10,
   "metadata": {},
   "outputs": [],
   "source": [
    "class TajMahal:    #blueprint\n",
    "    #attribute\n",
    "    def __init__(self):   #constructor of class--> it run itself, when we create a object\n",
    "        self.stone=\"white stone\"\n",
    "        self.height=400\n",
    "        self.width=400\n",
    "        self.river=\"water\"\n",
    "        self.innercore=\"wood\"\n",
    "        print(\"this is constructor\")\n",
    "        print(id(self))\n",
    "    #feature\n",
    "    def tourist_place(self):\n",
    "        print(\"Tourist can visit\")\n",
    "    \n",
    "    def army_protection(self):\n",
    "        print(\"protection provided by Indian Army\")\n",
    "\n"
   ]
  },
  {
   "cell_type": "code",
   "execution_count": 3,
   "metadata": {},
   "outputs": [
    {
     "name": "stdout",
     "output_type": "stream",
     "text": [
      "this is constructor\n",
      "400\n",
      "400\n",
      "wood\n"
     ]
    }
   ],
   "source": [
    "Dubai=TajMahal()\n",
    "print(Dubai.height)\n",
    "print(Dubai.width)\n",
    "print(Dubai.innercore)"
   ]
  },
  {
   "cell_type": "code",
   "execution_count": 4,
   "metadata": {},
   "outputs": [
    {
     "name": "stdout",
     "output_type": "stream",
     "text": [
      "<class '__main__.TajMahal'>\n"
     ]
    }
   ],
   "source": [
    "print(type(Dubai))"
   ]
  },
  {
   "cell_type": "code",
   "execution_count": 5,
   "metadata": {},
   "outputs": [
    {
     "name": "stdout",
     "output_type": "stream",
     "text": [
      "this is constructor\n"
     ]
    }
   ],
   "source": [
    "krishnaTomb=TajMahal()"
   ]
  },
  {
   "cell_type": "code",
   "execution_count": 6,
   "metadata": {},
   "outputs": [
    {
     "data": {
      "text/plain": [
       "'wood'"
      ]
     },
     "execution_count": 6,
     "metadata": {},
     "output_type": "execute_result"
    }
   ],
   "source": [
    "krishnaTomb.innercore"
   ]
  },
  {
   "cell_type": "code",
   "execution_count": 11,
   "metadata": {},
   "outputs": [
    {
     "name": "stdout",
     "output_type": "stream",
     "text": [
      "this is constructor\n",
      "2030360870352\n"
     ]
    }
   ],
   "source": [
    "himanshu=TajMahal()"
   ]
  },
  {
   "cell_type": "code",
   "execution_count": 12,
   "metadata": {},
   "outputs": [
    {
     "data": {
      "text/plain": [
       "2030360870352"
      ]
     },
     "execution_count": 12,
     "metadata": {},
     "output_type": "execute_result"
    }
   ],
   "source": [
    "id(himanshu)"
   ]
  },
  {
   "cell_type": "code",
   "execution_count": 8,
   "metadata": {},
   "outputs": [
    {
     "name": "stdout",
     "output_type": "stream",
     "text": [
      "this is constructor\n"
     ]
    }
   ],
   "source": [
    "krishna=TajMahal()"
   ]
  },
  {
   "cell_type": "code",
   "execution_count": 13,
   "metadata": {},
   "outputs": [
    {
     "name": "stdout",
     "output_type": "stream",
     "text": [
      "protection provided by Indian Army\n"
     ]
    }
   ],
   "source": [
    "TajMahal.army_protection(himanshu)"
   ]
  },
  {
   "cell_type": "code",
   "execution_count": 14,
   "metadata": {},
   "outputs": [],
   "source": [
    "class TajMahal:    #blueprint\n",
    "    #attribute\n",
    "    def __init__(self):   #constructor of class--> it run itself, when we create a object\n",
    "        self.stone=\"white stone\"\n",
    "        self.height=400\n",
    "        self.width=400\n",
    "        self.river=\"water\"\n",
    "        self.innercore=\"wood\"\n",
    "        print(\"this is constructor\")\n",
    "        print(id(self))\n",
    "    #feature\n",
    "    def tourist_place(self):\n",
    "        print(\"Tourist can visit\")\n",
    "    \n",
    "    def army_protection(self):\n",
    "        print(\"protection provided by Indian Army\")\n"
   ]
  },
  {
   "cell_type": "code",
   "execution_count": 15,
   "metadata": {},
   "outputs": [
    {
     "name": "stdout",
     "output_type": "stream",
     "text": [
      "this is constructor\n",
      "2030360869136\n"
     ]
    }
   ],
   "source": [
    "arjun=TajMahal()"
   ]
  },
  {
   "cell_type": "code",
   "execution_count": 26,
   "metadata": {},
   "outputs": [
    {
     "data": {
      "text/plain": [
       "2030360869136"
      ]
     },
     "execution_count": 26,
     "metadata": {},
     "output_type": "execute_result"
    }
   ],
   "source": [
    "id(arjun)"
   ]
  },
  {
   "cell_type": "code",
   "execution_count": 19,
   "metadata": {},
   "outputs": [
    {
     "name": "stdout",
     "output_type": "stream",
     "text": [
      "Tourist can visit\n"
     ]
    }
   ],
   "source": [
    "TajMahal.tourist_place(arjun)"
   ]
  },
  {
   "cell_type": "code",
   "execution_count": 20,
   "metadata": {},
   "outputs": [
    {
     "name": "stdout",
     "output_type": "stream",
     "text": [
      "Tourist can visit\n"
     ]
    }
   ],
   "source": [
    "arjun.tourist_place()"
   ]
  },
  {
   "cell_type": "code",
   "execution_count": 23,
   "metadata": {},
   "outputs": [
    {
     "name": "stdout",
     "output_type": "stream",
     "text": [
      "Tourist can visit\n"
     ]
    }
   ],
   "source": [
    "TajMahal.tourist_place(mohan)"
   ]
  },
  {
   "cell_type": "code",
   "execution_count": 22,
   "metadata": {},
   "outputs": [
    {
     "name": "stdout",
     "output_type": "stream",
     "text": [
      "this is constructor\n",
      "2030360923216\n"
     ]
    }
   ],
   "source": [
    "mohan=TajMahal()"
   ]
  },
  {
   "cell_type": "code",
   "execution_count": 24,
   "metadata": {},
   "outputs": [
    {
     "name": "stdout",
     "output_type": "stream",
     "text": [
      "Tourist can visit\n"
     ]
    }
   ],
   "source": [
    "mohan.tourist_place()"
   ]
  },
  {
   "cell_type": "code",
   "execution_count": 25,
   "metadata": {},
   "outputs": [
    {
     "data": {
      "text/plain": [
       "2030360923216"
      ]
     },
     "execution_count": 25,
     "metadata": {},
     "output_type": "execute_result"
    }
   ],
   "source": [
    "id(mohan)"
   ]
  },
  {
   "cell_type": "code",
   "execution_count": 30,
   "metadata": {},
   "outputs": [],
   "source": [
    "krishna.height=100"
   ]
  },
  {
   "cell_type": "code",
   "execution_count": 31,
   "metadata": {},
   "outputs": [
    {
     "data": {
      "text/plain": [
       "400"
      ]
     },
     "execution_count": 31,
     "metadata": {},
     "output_type": "execute_result"
    }
   ],
   "source": [
    "arjun.height"
   ]
  },
  {
   "cell_type": "code",
   "execution_count": 32,
   "metadata": {},
   "outputs": [
    {
     "data": {
      "text/plain": [
       "400"
      ]
     },
     "execution_count": 32,
     "metadata": {},
     "output_type": "execute_result"
    }
   ],
   "source": [
    "mohan.height"
   ]
  },
  {
   "cell_type": "code",
   "execution_count": 34,
   "metadata": {},
   "outputs": [
    {
     "data": {
      "text/plain": [
       "100"
      ]
     },
     "execution_count": 34,
     "metadata": {},
     "output_type": "execute_result"
    }
   ],
   "source": [
    "krishna.height"
   ]
  },
  {
   "cell_type": "code",
   "execution_count": 35,
   "metadata": {},
   "outputs": [],
   "source": [
    "mohan.height=200"
   ]
  },
  {
   "cell_type": "code",
   "execution_count": 36,
   "metadata": {},
   "outputs": [
    {
     "data": {
      "text/plain": [
       "200"
      ]
     },
     "execution_count": 36,
     "metadata": {},
     "output_type": "execute_result"
    }
   ],
   "source": [
    "mohan.height"
   ]
  },
  {
   "cell_type": "code",
   "execution_count": 38,
   "metadata": {},
   "outputs": [
    {
     "data": {
      "text/plain": [
       "400"
      ]
     },
     "execution_count": 38,
     "metadata": {},
     "output_type": "execute_result"
    }
   ],
   "source": [
    "arjun.height"
   ]
  },
  {
   "cell_type": "code",
   "execution_count": 43,
   "metadata": {},
   "outputs": [],
   "source": [
    "# Those variable(s) which mentioned inside a constructor is/are called instance variable(s) \n",
    "class ATM:\n",
    "    def __init__(self):\n",
    "        self.pin=9807\n",
    "        self.balance=0.50\n",
    "        self.ac=1234567890\n",
    "        self.card=\"0000000000\"\n",
    "\n",
    "    def withdrawal(self):\n",
    "        print(\"collect you paisa\")\n",
    "    \n",
    "    def balance_enquiry(self):\n",
    "        print(\"balance enquiry\")"
   ]
  },
  {
   "cell_type": "code",
   "execution_count": 44,
   "metadata": {},
   "outputs": [],
   "source": [
    "ayush=ATM()"
   ]
  },
  {
   "cell_type": "code",
   "execution_count": 46,
   "metadata": {},
   "outputs": [],
   "source": [
    "ayush.pin=7787"
   ]
  },
  {
   "cell_type": "code",
   "execution_count": 48,
   "metadata": {},
   "outputs": [],
   "source": [
    "ayush.balance=500"
   ]
  },
  {
   "cell_type": "code",
   "execution_count": 50,
   "metadata": {},
   "outputs": [],
   "source": [
    "anurag=ATM()"
   ]
  },
  {
   "cell_type": "code",
   "execution_count": 52,
   "metadata": {},
   "outputs": [],
   "source": [
    "anurag.balance=499"
   ]
  },
  {
   "cell_type": "code",
   "execution_count": 54,
   "metadata": {},
   "outputs": [],
   "source": [
    "anurag.pin=5001"
   ]
  },
  {
   "cell_type": "code",
   "execution_count": 55,
   "metadata": {},
   "outputs": [],
   "source": [
    "kashan=ATM()"
   ]
  },
  {
   "cell_type": "code",
   "execution_count": 57,
   "metadata": {},
   "outputs": [],
   "source": [
    "kashan.pin=1234"
   ]
  },
  {
   "cell_type": "code",
   "execution_count": 59,
   "metadata": {},
   "outputs": [],
   "source": [
    "kashan.balance=1000000000000"
   ]
  },
  {
   "cell_type": "code",
   "execution_count": 60,
   "metadata": {},
   "outputs": [],
   "source": [
    "Mayank=ATM()"
   ]
  },
  {
   "cell_type": "code",
   "execution_count": 62,
   "metadata": {},
   "outputs": [],
   "source": [
    "Mayank.pin=8877"
   ]
  },
  {
   "cell_type": "code",
   "execution_count": 64,
   "metadata": {},
   "outputs": [],
   "source": [
    "Mayank.balance=5000"
   ]
  },
  {
   "cell_type": "code",
   "execution_count": 65,
   "metadata": {},
   "outputs": [
    {
     "data": {
      "text/plain": [
       "500"
      ]
     },
     "execution_count": 65,
     "metadata": {},
     "output_type": "execute_result"
    }
   ],
   "source": [
    "ayush.balance"
   ]
  },
  {
   "cell_type": "code",
   "execution_count": 66,
   "metadata": {},
   "outputs": [
    {
     "data": {
      "text/plain": [
       "7787"
      ]
     },
     "execution_count": 66,
     "metadata": {},
     "output_type": "execute_result"
    }
   ],
   "source": [
    "ayush.pin"
   ]
  },
  {
   "cell_type": "code",
   "execution_count": 67,
   "metadata": {},
   "outputs": [
    {
     "data": {
      "text/plain": [
       "5001"
      ]
     },
     "execution_count": 67,
     "metadata": {},
     "output_type": "execute_result"
    }
   ],
   "source": [
    "anurag.pin"
   ]
  },
  {
   "cell_type": "code",
   "execution_count": 68,
   "metadata": {},
   "outputs": [
    {
     "data": {
      "text/plain": [
       "499"
      ]
     },
     "execution_count": 68,
     "metadata": {},
     "output_type": "execute_result"
    }
   ],
   "source": [
    "anurag.balance"
   ]
  },
  {
   "cell_type": "code",
   "execution_count": 69,
   "metadata": {},
   "outputs": [
    {
     "data": {
      "text/plain": [
       "1234"
      ]
     },
     "execution_count": 69,
     "metadata": {},
     "output_type": "execute_result"
    }
   ],
   "source": [
    "kashan.pin"
   ]
  },
  {
   "cell_type": "code",
   "execution_count": 70,
   "metadata": {},
   "outputs": [
    {
     "data": {
      "text/plain": [
       "1000000000000"
      ]
     },
     "execution_count": 70,
     "metadata": {},
     "output_type": "execute_result"
    }
   ],
   "source": [
    "kashan.balance"
   ]
  },
  {
   "cell_type": "code",
   "execution_count": 1,
   "metadata": {},
   "outputs": [],
   "source": [
    "# Encaspulation--> to hide our methods or variable of a class"
   ]
  },
  {
   "cell_type": "code",
   "execution_count": 25,
   "metadata": {},
   "outputs": [],
   "source": [
    "class ATM:\n",
    "    def __init__(self):\n",
    "        self.__pin=9807\n",
    "        self.__balance=0.50\n",
    "        self.__ac=1234567890\n",
    "        self.__card=\"0000000000\"\n",
    "\n",
    "    def update_pin(self):\n",
    "        a=int(input(\"enter your 4 digit pin:\"))\n",
    "        self.__pin=a\n",
    "        print(\"Pin change successfully\")\n",
    "    def __withdrawal(self):\n",
    "        print(\"collect you paisa\")\n",
    "    \n",
    "    def balance_enquiry(self):\n",
    "        print(\"balance enquiry\")"
   ]
  },
  {
   "cell_type": "code",
   "execution_count": 26,
   "metadata": {},
   "outputs": [],
   "source": [
    "krishna=ATM()"
   ]
  },
  {
   "cell_type": "code",
   "execution_count": 27,
   "metadata": {},
   "outputs": [
    {
     "name": "stdout",
     "output_type": "stream",
     "text": [
      "Pin change successfully\n"
     ]
    }
   ],
   "source": [
    "krishna.update_pin()"
   ]
  },
  {
   "cell_type": "code",
   "execution_count": 28,
   "metadata": {},
   "outputs": [
    {
     "data": {
      "text/plain": [
       "9807"
      ]
     },
     "execution_count": 28,
     "metadata": {},
     "output_type": "execute_result"
    }
   ],
   "source": [
    "krishna._ATM__pin"
   ]
  },
  {
   "cell_type": "code",
   "execution_count": 29,
   "metadata": {},
   "outputs": [],
   "source": [
    "rohan=ATM()"
   ]
  },
  {
   "cell_type": "code",
   "execution_count": 30,
   "metadata": {},
   "outputs": [],
   "source": [
    "rohan._ATM__pin=1000"
   ]
  },
  {
   "cell_type": "code",
   "execution_count": 31,
   "metadata": {},
   "outputs": [
    {
     "data": {
      "text/plain": [
       "1000"
      ]
     },
     "execution_count": 31,
     "metadata": {},
     "output_type": "execute_result"
    }
   ],
   "source": [
    "rohan._ATM__pin"
   ]
  },
  {
   "cell_type": "code",
   "execution_count": null,
   "metadata": {},
   "outputs": [],
   "source": []
  },
  {
   "cell_type": "code",
   "execution_count": 32,
   "metadata": {},
   "outputs": [
    {
     "name": "stdout",
     "output_type": "stream",
     "text": [
      "collect you paisa\n"
     ]
    }
   ],
   "source": [
    "krishna._ATM__withdrawal()"
   ]
  },
  {
   "cell_type": "code",
   "execution_count": 10,
   "metadata": {},
   "outputs": [],
   "source": [
    "# Inheritance\n",
    "\n",
    "class Papa:\n",
    "    def car(self):\n",
    "        print(\"father has a car\")\n",
    "    \n",
    "    def home(self):\n",
    "        print(\"father has a home\")"
   ]
  },
  {
   "cell_type": "code",
   "execution_count": 11,
   "metadata": {},
   "outputs": [],
   "source": [
    "class Son(Papa):\n",
    "    def toy(self):\n",
    "        print(\"I have a toy hulk\")\n"
   ]
  },
  {
   "cell_type": "code",
   "execution_count": 12,
   "metadata": {},
   "outputs": [],
   "source": [
    "Krishna=Son()"
   ]
  },
  {
   "cell_type": "code",
   "execution_count": 13,
   "metadata": {},
   "outputs": [
    {
     "name": "stdout",
     "output_type": "stream",
     "text": [
      "father has a car\n"
     ]
    }
   ],
   "source": [
    "Krishna.car()"
   ]
  },
  {
   "cell_type": "code",
   "execution_count": 6,
   "metadata": {},
   "outputs": [],
   "source": [
    "Sunil=Papa()"
   ]
  },
  {
   "cell_type": "code",
   "execution_count": 7,
   "metadata": {},
   "outputs": [
    {
     "name": "stdout",
     "output_type": "stream",
     "text": [
      "father has a car\n"
     ]
    }
   ],
   "source": [
    "Sunil.car()"
   ]
  },
  {
   "cell_type": "code",
   "execution_count": 8,
   "metadata": {},
   "outputs": [
    {
     "name": "stdout",
     "output_type": "stream",
     "text": [
      "father has a home\n"
     ]
    }
   ],
   "source": [
    "Sunil.home()"
   ]
  },
  {
   "cell_type": "code",
   "execution_count": 15,
   "metadata": {},
   "outputs": [],
   "source": [
    "class SignupLogin:\n",
    "    def Signup(self):\n",
    "        print(\"Welcome to signup section \")\n",
    "    \n",
    "    def Login(self):\n",
    "        print(\"Welcome to Login section \")"
   ]
  },
  {
   "cell_type": "code",
   "execution_count": 16,
   "metadata": {},
   "outputs": [],
   "source": [
    "class Seller(SignupLogin):    \n",
    "    def Good_seller(self):\n",
    "        print(\"selling a car\")"
   ]
  },
  {
   "cell_type": "code",
   "execution_count": 17,
   "metadata": {},
   "outputs": [],
   "source": [
    "class Buyer(SignupLogin):    \n",
    "    def Good_buyer(self):\n",
    "        print(\"I want to buy a car\")"
   ]
  },
  {
   "cell_type": "code",
   "execution_count": 18,
   "metadata": {},
   "outputs": [],
   "source": [
    "Krishna=Buyer()"
   ]
  },
  {
   "cell_type": "code",
   "execution_count": 19,
   "metadata": {},
   "outputs": [],
   "source": [
    "Mohan=Seller()"
   ]
  },
  {
   "cell_type": "code",
   "execution_count": 20,
   "metadata": {},
   "outputs": [],
   "source": [
    "#super()\n",
    "class Grandfather:\n",
    "    def __init__(self):\n",
    "        print(\"My grandson will become engineer\")\n",
    "    \n",
    "class Father(Grandfather):\n",
    "    def __init__(self):\n",
    "        print(\"My son will become a doctor\")\n",
    "    \n",
    "class Son(Father):\n",
    "    pass"
   ]
  },
  {
   "cell_type": "code",
   "execution_count": 21,
   "metadata": {},
   "outputs": [
    {
     "name": "stdout",
     "output_type": "stream",
     "text": [
      "My son will become a doctor\n"
     ]
    }
   ],
   "source": [
    "krishna=Son()"
   ]
  },
  {
   "cell_type": "code",
   "execution_count": 22,
   "metadata": {},
   "outputs": [],
   "source": [
    "#super()\n",
    "class Grandfather:\n",
    "    def __init__(self):\n",
    "        print(\"My grandson will become engineer\")\n",
    "    \n",
    "class Father(Grandfather):\n",
    "    def __init__(self):\n",
    "        super().__init__()\n",
    "        print(\"My son will become a doctor\")\n",
    "    \n",
    "class Son(Father):\n",
    "    pass"
   ]
  },
  {
   "cell_type": "code",
   "execution_count": 23,
   "metadata": {},
   "outputs": [
    {
     "name": "stdout",
     "output_type": "stream",
     "text": [
      "My grandson will become engineer\n",
      "My son will become a doctor\n"
     ]
    }
   ],
   "source": [
    "krishna=Son()"
   ]
  },
  {
   "cell_type": "code",
   "execution_count": 27,
   "metadata": {},
   "outputs": [],
   "source": [
    "class Father(Mother):\n",
    "    def __init__(self):\n",
    "        print(\"This is father's constructor\")\n",
    "    \n",
    "    def home(self):\n",
    "        print(\"father has a house\")\n",
    "        "
   ]
  },
  {
   "cell_type": "code",
   "execution_count": 28,
   "metadata": {},
   "outputs": [],
   "source": [
    "class Mother:\n",
    "    def __init__(self):\n",
    "        print(\"Father's all property belongs to mother\")\n",
    "    \n",
    "    def jwellery(self):\n",
    "        print(\"Mom has 50 tolla\")\n"
   ]
  },
  {
   "cell_type": "code",
   "execution_count": 29,
   "metadata": {},
   "outputs": [],
   "source": [
    "class Son(Mother,Father):\n",
    "    def toy(self):\n",
    "        print(\"son has a toy\")"
   ]
  },
  {
   "cell_type": "code",
   "execution_count": 26,
   "metadata": {},
   "outputs": [
    {
     "name": "stdout",
     "output_type": "stream",
     "text": [
      "Father's all property belongs to mother\n"
     ]
    }
   ],
   "source": [
    "krishna=Son()"
   ]
  },
  {
   "cell_type": "code",
   "execution_count": 5,
   "metadata": {},
   "outputs": [
    {
     "name": "stdout",
     "output_type": "stream",
     "text": [
      "son has a toy\n"
     ]
    }
   ],
   "source": [
    "class Son2(Mother):\n",
    "    def love(self):\n",
    "        print(\"I love mom\")"
   ]
  },
  {
   "cell_type": "code",
   "execution_count": 30,
   "metadata": {},
   "outputs": [],
   "source": [
    "class Father(Mother):\n",
    "    def __init__(self):\n",
    "        print(\"This is father's constructor\")\n",
    "    \n",
    "    def home(self):\n",
    "        print(\"father has a house\")\n",
    "\n",
    "class Mother(Father):\n",
    "    def __init__(self):\n",
    "        print(\"Father's all property belongs to mother\")\n",
    "    \n",
    "    def jwellery(self):\n",
    "        print(\"Mom has 50 tolla\")"
   ]
  },
  {
   "cell_type": "code",
   "execution_count": null,
   "metadata": {},
   "outputs": [],
   "source": []
  }
 ],
 "metadata": {
  "kernelspec": {
   "display_name": "Python 3",
   "language": "python",
   "name": "python3"
  },
  "language_info": {
   "codemirror_mode": {
    "name": "ipython",
    "version": 3
   },
   "file_extension": ".py",
   "mimetype": "text/x-python",
   "name": "python",
   "nbconvert_exporter": "python",
   "pygments_lexer": "ipython3",
   "version": "3.11.2"
  },
  "orig_nbformat": 4
 },
 "nbformat": 4,
 "nbformat_minor": 2
}
