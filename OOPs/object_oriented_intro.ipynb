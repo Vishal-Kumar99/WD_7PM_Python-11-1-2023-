{
 "cells": [
  {
   "cell_type": "code",
   "execution_count": 1,
   "metadata": {},
   "outputs": [],
   "source": [
    "# terminalogies:\n",
    "\n",
    "# Blueprint --> class\n",
    "\n",
    "#constructor -->\n",
    "\n",
    "#encapsulation\n",
    "\n",
    "# Inheritance\n",
    "\n",
    "#polymorphism\n",
    "\n",
    "#Abstraction\n",
    "\n",
    "\n",
    "    # class variable\n",
    "\n",
    "    # instance variable\n",
    "\n",
    "    # class method\n",
    "    # static method\n"
   ]
  },
  {
   "cell_type": "code",
   "execution_count": 6,
   "metadata": {},
   "outputs": [],
   "source": [
    "class TajMahal:\n",
    "    #attribute\n",
    "    def __init__(self):   #constructor of class--> it run itself, when we create a object\n",
    "        self.stone=\"white stone\"\n",
    "        self.height=400\n",
    "        self.width=400\n",
    "        self.river=\"water\"\n",
    "        self.innercore=\"wood\"\n",
    "        print(\"this is constructor\")\n",
    "    #feature\n",
    "    def tourist_place(self):\n",
    "        print(\"Tourist can visit\")\n",
    "    \n",
    "    def army_protection(self):\n",
    "        print(\"protection provided by Indian Army\")\n",
    "\n"
   ]
  },
  {
   "cell_type": "code",
   "execution_count": 12,
   "metadata": {},
   "outputs": [
    {
     "name": "stdout",
     "output_type": "stream",
     "text": [
      "this is constructor\n",
      "400\n",
      "400\n",
      "wood\n"
     ]
    }
   ],
   "source": [
    "Dubai=TajMahal()\n",
    "print(Dubai.height)\n",
    "print(Dubai.width)\n",
    "print(Dubai.innercore)"
   ]
  },
  {
   "cell_type": "code",
   "execution_count": 5,
   "metadata": {},
   "outputs": [
    {
     "name": "stdout",
     "output_type": "stream",
     "text": [
      "<class '__main__.TajMahal'>\n"
     ]
    }
   ],
   "source": [
    "print(type(Dubai))"
   ]
  },
  {
   "cell_type": "code",
   "execution_count": 13,
   "metadata": {},
   "outputs": [
    {
     "name": "stdout",
     "output_type": "stream",
     "text": [
      "this is constructor\n"
     ]
    }
   ],
   "source": [
    "krishnaTomb=TajMahal()"
   ]
  },
  {
   "cell_type": "code",
   "execution_count": 14,
   "metadata": {},
   "outputs": [
    {
     "data": {
      "text/plain": [
       "'wood'"
      ]
     },
     "execution_count": 14,
     "metadata": {},
     "output_type": "execute_result"
    }
   ],
   "source": [
    "krishnaTomb.innercore"
   ]
  },
  {
   "cell_type": "code",
   "execution_count": null,
   "metadata": {},
   "outputs": [],
   "source": []
  }
 ],
 "metadata": {
  "kernelspec": {
   "display_name": "Python 3",
   "language": "python",
   "name": "python3"
  },
  "language_info": {
   "codemirror_mode": {
    "name": "ipython",
    "version": 3
   },
   "file_extension": ".py",
   "mimetype": "text/x-python",
   "name": "python",
   "nbconvert_exporter": "python",
   "pygments_lexer": "ipython3",
   "version": "3.11.2"
  },
  "orig_nbformat": 4
 },
 "nbformat": 4,
 "nbformat_minor": 2
}
