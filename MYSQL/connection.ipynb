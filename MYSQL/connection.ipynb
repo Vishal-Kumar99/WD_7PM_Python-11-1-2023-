{
 "cells": [
  {
   "cell_type": "code",
   "execution_count": 1,
   "metadata": {},
   "outputs": [
    {
     "name": "stdout",
     "output_type": "stream",
     "text": [
      "Requirement already satisfied: mysql-connector in c:\\users\\ducat\\appdata\\local\\programs\\python\\python311\\lib\\site-packages (2.2.9)\n",
      "Note: you may need to restart the kernel to use updated packages.\n"
     ]
    },
    {
     "name": "stderr",
     "output_type": "stream",
     "text": [
      "\n",
      "[notice] A new release of pip available: 22.3.1 -> 23.0.1\n",
      "[notice] To update, run: python.exe -m pip install --upgrade pip\n"
     ]
    }
   ],
   "source": [
    "pip install mysql-connector"
   ]
  },
  {
   "cell_type": "code",
   "execution_count": 2,
   "metadata": {},
   "outputs": [],
   "source": [
    "import mysql.connector as sql"
   ]
  },
  {
   "cell_type": "code",
   "execution_count": 14,
   "metadata": {},
   "outputs": [],
   "source": [
    "db=sql.connect(host=\"localhost\",port=3306,username=\"root\",password=\"root\",database=\"WD_7pm\")"
   ]
  },
  {
   "cell_type": "code",
   "execution_count": 5,
   "metadata": {},
   "outputs": [],
   "source": [
    "cur=db.cursor()"
   ]
  },
  {
   "cell_type": "code",
   "execution_count": 6,
   "metadata": {},
   "outputs": [],
   "source": [
    "cur.execute(\"show tables\")"
   ]
  },
  {
   "cell_type": "code",
   "execution_count": 7,
   "metadata": {},
   "outputs": [
    {
     "name": "stdout",
     "output_type": "stream",
     "text": [
      "('annual',)\n",
      "('college2',)\n",
      "('hostel',)\n",
      "('hostel2',)\n",
      "('student2',)\n",
      "('timetable',)\n"
     ]
    }
   ],
   "source": [
    "for i in cur:\n",
    "    print(i)"
   ]
  },
  {
   "cell_type": "code",
   "execution_count": 8,
   "metadata": {},
   "outputs": [],
   "source": [
    "cur.execute(\"select * from timetable\")"
   ]
  },
  {
   "cell_type": "code",
   "execution_count": 9,
   "metadata": {},
   "outputs": [
    {
     "name": "stdout",
     "output_type": "stream",
     "text": [
      "(datetime.timedelta(seconds=69153), datetime.date(2023, 4, 5), datetime.datetime(2023, 4, 5, 19, 12, 33))\n",
      "(datetime.timedelta(seconds=69345), datetime.date(2023, 4, 5), datetime.datetime(2023, 4, 5, 19, 15, 45))\n",
      "(datetime.timedelta(seconds=69345), datetime.date(2023, 4, 5), datetime.datetime(2023, 4, 5, 19, 15, 45))\n",
      "(datetime.timedelta(seconds=69720), datetime.date(2023, 4, 5), datetime.datetime(2023, 4, 5, 19, 22))\n",
      "(datetime.timedelta(seconds=69740), datetime.date(2023, 4, 5), datetime.datetime(2023, 4, 5, 19, 22, 20))\n"
     ]
    }
   ],
   "source": [
    "for i in cur:\n",
    "    print(i)"
   ]
  },
  {
   "cell_type": "code",
   "execution_count": 10,
   "metadata": {},
   "outputs": [],
   "source": [
    "cur.execute(\"insert into timetable values(curtime(),curdate(),now())\")"
   ]
  },
  {
   "cell_type": "code",
   "execution_count": 11,
   "metadata": {},
   "outputs": [],
   "source": [
    "cur.execute(\"select * from timetable\")"
   ]
  },
  {
   "cell_type": "code",
   "execution_count": 12,
   "metadata": {},
   "outputs": [
    {
     "name": "stdout",
     "output_type": "stream",
     "text": [
      "(datetime.timedelta(seconds=69153), datetime.date(2023, 4, 5), datetime.datetime(2023, 4, 5, 19, 12, 33))\n",
      "(datetime.timedelta(seconds=69345), datetime.date(2023, 4, 5), datetime.datetime(2023, 4, 5, 19, 15, 45))\n",
      "(datetime.timedelta(seconds=69345), datetime.date(2023, 4, 5), datetime.datetime(2023, 4, 5, 19, 15, 45))\n",
      "(datetime.timedelta(seconds=69720), datetime.date(2023, 4, 5), datetime.datetime(2023, 4, 5, 19, 22))\n",
      "(datetime.timedelta(seconds=69740), datetime.date(2023, 4, 5), datetime.datetime(2023, 4, 5, 19, 22, 20))\n",
      "(datetime.timedelta(seconds=71059), datetime.date(2023, 4, 5), datetime.datetime(2023, 4, 5, 19, 44, 19))\n"
     ]
    }
   ],
   "source": [
    "for i in cur:\n",
    "    print(i)"
   ]
  },
  {
   "cell_type": "code",
   "execution_count": null,
   "metadata": {},
   "outputs": [],
   "source": []
  }
 ],
 "metadata": {
  "kernelspec": {
   "display_name": "Python 3",
   "language": "python",
   "name": "python3"
  },
  "language_info": {
   "codemirror_mode": {
    "name": "ipython",
    "version": 3
   },
   "file_extension": ".py",
   "mimetype": "text/x-python",
   "name": "python",
   "nbconvert_exporter": "python",
   "pygments_lexer": "ipython3",
   "version": "3.11.2"
  },
  "orig_nbformat": 4
 },
 "nbformat": 4,
 "nbformat_minor": 2
}
